{
  "nbformat": 4,
  "nbformat_minor": 0,
  "metadata": {
    "colab": {
      "private_outputs": true,
      "provenance": [],
      "include_colab_link": true
    },
    "kernelspec": {
      "name": "python3",
      "display_name": "Python 3"
    },
    "language_info": {
      "name": "python"
    }
  },
  "cells": [
    {
      "cell_type": "markdown",
      "metadata": {
        "id": "view-in-github",
        "colab_type": "text"
      },
      "source": [
        "<a href=\"https://colab.research.google.com/github/VerlonRoelMBINGUI/Numerical-linear-algebra-/blob/main/Verlon_Roel_Mbingui_BLA.ipynb\" target=\"_parent\"><img src=\"https://colab.research.google.com/assets/colab-badge.svg\" alt=\"Open In Colab\"/></a>"
      ]
    },
    {
      "cell_type": "markdown",
      "source": [
        "---\n",
        "___\n",
        "<p align= 'center'> <strong> PRACTICAL ASSIGNMENT ON LINEAR ALGEBRA</strong></p>\n",
        "\n",
        "---\n",
        "___\n",
        "<b> Instructions </b> <br>\n",
        "    1. The work you hand in must be your own. You are permitted to collaborate with one another students only to the degree of\n",
        "giving ideas on how to solve a problem. Think through and write up your own solutions; copying from others is not\n",
        "permitted. In particular, the code you hand in must be your own; <br>\n",
        "    2. Do not import additional libraries, only numpy is enough for this assignment.\n",
        "The max and absolute value functions have coded from scratch. Do not use for instance, abs() or np.Max() or max(). If you need any of them, please write your own codes."
      ],
      "metadata": {
        "id": "CUwVRjPlWGVJ"
      }
    },
    {
      "cell_type": "code",
      "source": [
        "import numpy as np\n",
        "\n",
        "\"\"\"\n",
        "Helper functions: START\n",
        "\n",
        "Helper functions are functions that will be used within the required functions. This may not be useful if you decide to write everything within your functions.\n",
        "--- For this assignment, personally I wrote two helper functions, namely, absolute_value() and max_of_an_array() that helped me to find the absolute value of a \n",
        "given value and the maximum value of a given array respectively. However, you may have more than two.\n",
        "\"\"\"\n",
        "## WRITE YOUR HELPER FUNCTIONS HERE (ONLY IF YOU HAVE)\n",
        "\"\"\"\n",
        "Helper functions: END\n",
        "\"\"\""
      ],
      "metadata": {
        "id": "kbk4wqQ-M2yg"
      },
      "execution_count": null,
      "outputs": []
    },
    {
      "cell_type": "code",
      "source": [
        "def inner(x,y):\n",
        "\n",
        "  \"\"\"\n",
        "\tr = inner(x,y)\n",
        "  Compute the inner product of two vectors x and y.\n",
        "\n",
        "  Parameters\n",
        "  ----------\n",
        "  x: vector of size n\n",
        "  y: vector of size n\n",
        "\n",
        "  Return\n",
        "  ------\n",
        "  r: a float\n",
        "  \n",
        "  Example\n",
        "  -------\n",
        "  >>> x= np.array([-8, 4, 6, 2, 5])\n",
        "  >>> y= np.array([2, 2, -1, 4, 3])\n",
        "  >>> r= inner(x,y)\n",
        "  >>> r\n",
        "  9.0\n",
        "  \n",
        "  \"\"\"\n",
        "  ##### WRITE YOUR CODE HERE #####\n",
        "\n",
        "  s = 0\n",
        "  if len(x)!=len(y):\n",
        "    print(\" the inner product is not possible\")\n",
        "  else :\n",
        "    for i in range(len(x)):\n",
        "      s += (x[i]*y[i])\n",
        "    return s"
      ],
      "metadata": {
        "id": "Ogy7f06fM36Z"
      },
      "execution_count": null,
      "outputs": []
    },
    {
      "cell_type": "code",
      "source": [],
      "metadata": {
        "id": "88AjqEkZQm54"
      },
      "execution_count": null,
      "outputs": []
    },
    {
      "cell_type": "code",
      "source": [
        "print(\"-----TEST------\")\n",
        "print(\"-- Display x --\")\n",
        "x= np.array([-8,4,6, 2, 5])\n",
        "y= np.array([2,2,-1, 4,3])\n",
        "print(x)\n",
        "print(\"-- Display y --\")\n",
        "print(y)\n",
        "TOL= 1e-20\n",
        "assert ((np.dot(x,y)-inner(x,y))<TOL), \"inner function not working fine\"\n",
        "print(\"✅✅✅ inner function works fine.\")\n",
        "print(\"The solution is: \", inner(x,y))"
      ],
      "metadata": {
        "id": "bJkVUputU8Ez"
      },
      "execution_count": null,
      "outputs": []
    },
    {
      "cell_type": "code",
      "source": [
        "def hadamard(x,y):\n",
        "\n",
        "  \"\"\"\n",
        "\tr = hadamard(x,y)\n",
        "  Compute the hadamard (element-wise) product of two vectors x and y.\n",
        "\n",
        "  Parameters\n",
        "  ----------\n",
        "  x: vector of size n\n",
        "  y: vector of size n\n",
        "\n",
        "  Return\n",
        "  ------\n",
        "  r: an array of length n\n",
        "  \n",
        "  Example\n",
        "  -------\n",
        "  >>> x= np.array([-8, 4, 6, 2, 5])\n",
        "  >>> y= np.array([2, 2, -1, 4, 3])\n",
        "  >>> r= hadamard(x,y)\n",
        "  >>> r\n",
        "  array([-16.,   8.,  -6.,   8.,  15.])\n",
        "  \"\"\"\n",
        "  ##### WRITE YOUR CODE HERE #####\n",
        "  #s = np.array([0 for i in range(len(x))])\n",
        "  s = np.zeros(len(x))\n",
        "  if len(x)!=len(y):\n",
        "    print(\" the Hadamaerd product is not impossible\")\n",
        "  else :\n",
        "    for i in range(len(x)):\n",
        "      s[i] += (x[i]*y[i])\n",
        "    return s"
      ],
      "metadata": {
        "id": "-laTS7xGM_Q7"
      },
      "execution_count": null,
      "outputs": []
    },
    {
      "cell_type": "code",
      "source": [
        "print(\"-----TEST------\")\n",
        "print(\"-- Display x --\")\n",
        "x= np.array([-8,4,6, 2, 5])\n",
        "y= np.array([2,2,-1, 4,3])\n",
        "print(x)\n",
        "print(\"-- Display y --\")\n",
        "print(y)\n",
        "TOL= 1e-20\n",
        "assert (np.linalg.norm(x*y-hadamard(x,y),2)<TOL), \"hadamard function not working fine\"\n",
        "print(\"✅✅✅ hadamard function works fine.\")\n",
        "print(\"The solution is: \", hadamard(x,y))"
      ],
      "metadata": {
        "id": "lpIgdvvGTTzq"
      },
      "execution_count": null,
      "outputs": []
    },
    {
      "cell_type": "code",
      "source": [
        "def outer(x,y):\n",
        "\n",
        "  \"\"\"\n",
        "\tr = outer(x,y)\n",
        "  Compute the inner product of two vectors x and y.\n",
        "\n",
        "  Parameters\n",
        "  ----------\n",
        "  x: vector of size m\n",
        "  y: vector of size n\n",
        "\n",
        "  Return\n",
        "  ------\n",
        "  M: an mxn matrix \n",
        "  \n",
        "  Example\n",
        "  -------\n",
        "  >>> x= np.array([8, 4, 6, 2, 5])\n",
        "  >>> y= np.array([2, 2, 1, 4, 3, 9, 10])\n",
        "  >>> M= outer(x,y)\n",
        "  >>> M\n",
        "  array([[16. 16.  8. 32. 24. 72. 80.]\n",
        "  [ 8.  8.  4. 16. 12. 36. 40.]\n",
        "  [12. 12.  6. 24. 18. 54. 60.]\n",
        "  [ 4.  4.  2.  8.  6. 18. 20.]\n",
        "  [10. 10.  5. 20. 15. 45. 50.]])\n",
        "  \n",
        "  \"\"\"\n",
        "  ##### WRITE YOUR CODE HERE #####\n",
        "  z = np.zeros((len(x),len(y)))\n",
        "  a = range(len(x))\n",
        "  b = range(len(y))\n",
        "  for i in a :\n",
        "    for j in b :\n",
        "      z[i,j]=x[i]*y[j]\n",
        "  return z   "
      ],
      "metadata": {
        "id": "q4nO7dD0M_-j"
      },
      "execution_count": null,
      "outputs": []
    },
    {
      "cell_type": "code",
      "source": [
        "a= np.array([8,4,6, 2, 5])\n",
        "print(\"-- Display a --\")\n",
        "print(a)\n",
        "b= np.array([2,2,1, 4,3,9,10])\n",
        "print(\"-- Display b --\")\n",
        "print(b)\n",
        "print(\"The solution is: \", outer(a,b))\n",
        "assert (np.outer(a,b).all()==outer(a,b).all()), \"outer function not working fine\""
      ],
      "metadata": {
        "id": "hwTDss-TTUgs"
      },
      "execution_count": null,
      "outputs": []
    },
    {
      "cell_type": "code",
      "source": [
        "def mynorm(x,p):\n",
        "  \"\"\"\n",
        "\tr = mynorm(x)\n",
        "  Compute the 2-norm of a vector x.\n",
        "\n",
        "  Parameters\n",
        "  ----------\n",
        "  x: vector of size n\n",
        "  p: int for p-norm\n",
        "\n",
        "  Return\n",
        "  ------\n",
        "  r: a float\n",
        "  \n",
        "  Example\n",
        "  -------\n",
        "  >>> x= np.array([-8,4,6, 2, 5])\n",
        "  >>> r= mynorm(x,p= 2) # p may be: \"inf\", 1 or 2 or any integer.\n",
        "  >>> r\n",
        "  12.041594578792296\n",
        "  \n",
        "  \"\"\"\n",
        "  ##### WRITE YOUR CODE HERE #####\n",
        "  \n",
        "  if p < 0 :\n",
        "    print(\"We cannot compute the norm\")\n",
        "  elif p == 1 :\n",
        "    s = 0\n",
        "    for i in range(len(x)):\n",
        "      if x[i] < 0:\n",
        "        x[i]= -1*x[i]\n",
        "      s += x[i]\n",
        "    return s\n",
        "  \n",
        "  elif (2 <= p < float('inf')) :\n",
        "   s1=0 \n",
        "   for j in range(len(x)):\n",
        "     x_i=x[j]**p\n",
        "     s1 += x_i\n",
        "   return s1**(1/p)\n",
        "  else  :\n",
        "    max_value = x[0]\n",
        "    for k in range(len(x)):\n",
        "      if x[k] < 0:\n",
        "        x[k]= -1*x[k]   \n",
        "        for k in x:\n",
        "          L=len(x)\n",
        "          for i in range(L):\n",
        "            if x[i] >= max_value:\n",
        "              max_value = x[i]\n",
        "    return max_value\n"
      ],
      "metadata": {
        "id": "CaY7io1zNCzG"
      },
      "execution_count": null,
      "outputs": []
    },
    {
      "cell_type": "code",
      "source": [
        "print(\"-----TEST------\")\n",
        "print(\"-- Display x --\")\n",
        "x= np.array([-8,4,6, 2, 5])\n",
        "y= np.array([2,2,-1, 4,3])\n",
        "print(x)\n",
        "print(\"-- Display y --\")\n",
        "print(y)\n",
        "TOL= 1e-20\n",
        "assert ((np.linalg.norm(x,1)-mynorm(x,1))<TOL), \"1-mynorm function not working fine\"\n",
        "assert ((np.linalg.norm(x,2)-mynorm(x,2))<TOL), \"2-mynorm function not working fine\"\n",
        "assert ((np.linalg.norm(x,np.inf)-mynorm(x,float('inf')))<TOL), \"inf-mynorm function not working fine\"\n",
        "print(\"✅✅✅ p-mynorm function works fine.\")\n",
        "print(\"The solution is: \", mynorm(x,2))"
      ],
      "metadata": {
        "id": "uzcbhviwTVKp"
      },
      "execution_count": null,
      "outputs": []
    },
    {
      "cell_type": "code",
      "source": [
        "def normalize(x):\n",
        "  \n",
        "  \"\"\"\n",
        "\ts = mynormalize(x)\n",
        "   Return a vector s that is the normalized vector x.\n",
        "   \n",
        "  Parameters\n",
        "  ----------\n",
        "   x: a vector of size n\n",
        "   \n",
        "  Return\n",
        "  ------\n",
        "  s: a normalized vector of size n\n",
        "  \n",
        "  Example\n",
        "  -------\n",
        "  >>> x= np.array([-8,4,6, 2, 5])\n",
        "  >>> s= normalize(x)\n",
        "  >>> s\n",
        "  array([-0.66436384  0.33218192  0.49827288  0.16609096  0.4152274 ])\n",
        "\n",
        "  \"\"\"\n",
        "  ##### WRITE YOUR CODE HERE #####\n",
        "  s2=0 \n",
        "  for j in range(len(x)):\n",
        "    x1=x[j]**2\n",
        "    s2 += x1\n",
        "    s3 = s2**(1/2)\n",
        "  s4=np.zeros(len(x))\n",
        "  for m in range(len(x)):\n",
        "    s4[m] = x[m]/s3 \n",
        "  return s4\n"
      ],
      "metadata": {
        "id": "iDQ15HPwNFV3"
      },
      "execution_count": null,
      "outputs": []
    },
    {
      "cell_type": "code",
      "source": [
        "print(\"-----TEST------\")\n",
        "print(\"-- Display x --\")\n",
        "x= np.array([-8,4,6, 2, 5])\n",
        "y= np.array([2,2,-1, 4,3])\n",
        "print(x)\n",
        "print(\"-- Display y --\")\n",
        "print(y)\n",
        "TOL= 1e-20\n",
        "assert ((mynorm(x/np.linalg.norm(x)-np.array(normalize(x)),2))<TOL), \"normalize function not working fine\"\n",
        "print(\"✅✅✅ normalize function works fine.\")\n",
        "print(\"The solution is: \", normalize(x))"
      ],
      "metadata": {
        "id": "8n4c2nYCTWSD"
      },
      "execution_count": null,
      "outputs": []
    },
    {
      "cell_type": "code",
      "source": [
        "def inner(y,x):\n",
        "  s = 0\n",
        "  if len(x)!=len(y):\n",
        "    print(\" the inner product is not possible\")\n",
        "  else :\n",
        "    for i in range(len(y)):\n",
        "      s += (y[i]*x[i])\n",
        "    return s\n",
        "x= np.array([-8,4,6, 2, 5])\n",
        "y= np.array([2,2,-1, 4,3])\n",
        "print(inner(y,x))\n",
        "print(inner(y,x=y))\n",
        "a = print(inner(y,x)/inner(y,x=y))"
      ],
      "metadata": {
        "id": "AFFwMF1d-yCX"
      },
      "execution_count": null,
      "outputs": []
    },
    {
      "cell_type": "code",
      "source": [
        "def projection(x,y):\n",
        "\n",
        "  \"\"\"\n",
        "\t s = project(x, y)\n",
        "   Project vector x onto vector y.\n",
        "\n",
        "   Parameters\n",
        "   ----------\n",
        "   x: a vector of size n\n",
        "   y: a vector of size n\n",
        "\n",
        "   Return\n",
        "   ------\n",
        "   s: an arrray of size n\n",
        "   \n",
        "   Example\n",
        "   -------\n",
        "   >>> x= np.array([8,4,6, 2, 5])\n",
        "   >>> y= np.array([2,2,1, 4,3])\n",
        "   >>> s= projection(x,y)\n",
        "   >>> s\n",
        "   array([ 0.52941176  0.52941176 -0.26470588  1.05882353  0.79411765])\n",
        "   \n",
        "  \"\"\"\n",
        "  ##### WRITE YOUR CODE HERE #####\n",
        "  projec = np.zeros(len(y))\n",
        "  s1 = 0\n",
        "  for i in range(len(y)):\n",
        "      s1 += (y[i]*x[i])\n",
        "  s2 = 0\n",
        "  for i in range(len(y)):\n",
        "      s2 += (y[i]*y[i])\n",
        "  projec = np.zeros(len(y))\n",
        "  for k in range(len(y)):\n",
        "    projec[k]=(s1/s2)*y[k] \n",
        "  return projec\n"
      ],
      "metadata": {
        "id": "u54dLX-VNHhN"
      },
      "execution_count": null,
      "outputs": []
    },
    {
      "cell_type": "code",
      "source": [
        "a= np.array([8,4,6, 2, 5])\n",
        "print(\"-- Display a --\")\n",
        "print(a)\n",
        "print(\"-- Display b --\")\n",
        "b= np.array([2,2,1, 4,3])\n",
        "print(b)\n",
        "\n",
        "assert ((mynorm(np.array([3.1176470588235294, 3.1176470588235294, 1.5588235294117647, 6.235294117647059, 4.676470588235294])-np.array(projection(a,b)),2))<TOL), \"projection function not working fine\"\n",
        "print(\"✅✅✅ projection function works fine.\")\n",
        "print(\"The solution is: \", projection(x,y))"
      ],
      "metadata": {
        "id": "CggfsbHBT3r4"
      },
      "execution_count": null,
      "outputs": []
    },
    {
      "cell_type": "code",
      "source": [
        "def cosine_similarity(x,y):\n",
        "  \n",
        "  \"\"\"\n",
        "\t s = cosine_similarity(x, y)\n",
        "   cosine similarity between vector x and vector y.\n",
        "\n",
        "   Parameters\n",
        "   ----------\n",
        "   x: a list of size n\n",
        "   y: a list of size n\n",
        "\n",
        "   Return\n",
        "   ------\n",
        "   s: a float\n",
        "   \n",
        "   Example\n",
        "   -------\n",
        "   >>> x= np.array([8,4,6, 2, 5])\n",
        "   >>> y= np.array([2,2,1, 4,3])\n",
        "   >>> r= cosine_similarity(x,y)\n",
        "   >>> r\n",
        "   0.12817964067657414\n",
        "   \n",
        "  \"\"\"\n",
        "  ##### WRITE YOUR CODE HERE #####\n",
        "  s1=0\n",
        "  for j in range(len(x)):\n",
        "     x_i=x[j]**2\n",
        "     s1 += x_i\n",
        "     s2 = s1**(1/2)\n",
        "  s3=0 \n",
        "  for val in range(len(y)):\n",
        "     y_i=y[val]**2\n",
        "     s3 += y_i\n",
        "     s4 = s3**(1/2)\n",
        "  s = 0\n",
        "  for i in range(len(y)):\n",
        "      s += (x[i]*y[i])\n",
        "      c=s/(s2*s4)\n",
        "  return c\n",
        "\n",
        "  "
      ],
      "metadata": {
        "id": "8nMcVvvPNOQc"
      },
      "execution_count": null,
      "outputs": []
    },
    {
      "cell_type": "code",
      "source": [
        "print(\"-----TEST------\")\n",
        "print(\"-- Display x --\")\n",
        "x= np.array([-8,4,6, 2, 5])\n",
        "y= np.array([2,2,-1, 4,3])\n",
        "print(x)\n",
        "print(\"-- Display y --\")\n",
        "print(y)\n",
        "TOL= 1e-20\n",
        "assert ((np.dot(x,y)/(np.linalg.norm(x,2)*np.linalg.norm(y,2))-cosine_similarity(x,y))<TOL), \"cosine_similarity function not working fine\"\n",
        "print(\"✅✅✅ cosine_similarity function works fine.\")\n",
        "print(\"The solution is: \", cosine_similarity(x,y))"
      ],
      "metadata": {
        "id": "sQs1z3EVTXCZ"
      },
      "execution_count": null,
      "outputs": []
    },
    {
      "cell_type": "code",
      "source": [
        "def max_array(x):\n",
        "  max_val = x[0]\n",
        "  for i in range(len(x)):\n",
        "    if x[i]>= max_val:\n",
        "      max_val = x[i]\n",
        "  return max_val"
      ],
      "metadata": {
        "id": "6ooEZKJhHYiL"
      },
      "execution_count": null,
      "outputs": []
    },
    {
      "cell_type": "code",
      "source": [
        "def matrix_norm(A, p):\n",
        "    \"\"\"\n",
        "      p_norm_A = matrix_norm(A, p)\n",
        "      p-norm of a matrix A.\n",
        "\n",
        "      Parameters\n",
        "      ----------\n",
        "      A: a nxn matrix.\n",
        "      p: int or string. This parameter determine the norm type.\n",
        "      \n",
        "      Return\n",
        "      ------\n",
        "      p_norm_A: a float\n",
        "      \n",
        "      Example\n",
        "      -------\n",
        "      >>> A= np.array([[5,-4,2], [-1,2,3],[-2,1,0]])\n",
        "      >>> p_norm_A= matrix_norm(A,p= 1) # p may be: \"inf\", 1 or F\n",
        "      >>> p_norm_A\n",
        "      10.0 \n",
        "      \n",
        "    \"\"\"\n",
        "    ##### WRITE YOUR CODE HERE #####\n",
        "    if p  == 1:\n",
        "      val = np.zeros(A.shape[1])\n",
        "      for i in range(A.shape[1]):\n",
        "        val[i] = mynorm(A[:,i], 1)\n",
        "      return max_array(val)\n",
        "\n",
        "    elif p == \"inf\":\n",
        "      C = np.zeros(A.shape[0])\n",
        "      for i in range(A.shape[0]):\n",
        "        C[i] = mynorm(A[i,:], 1)\n",
        "      return max_array(C)\n",
        "\n",
        "    elif p == \"F\":\n",
        "      s = 0\n",
        "      for i in range(A.shape[0]):\n",
        "        for j in range(A.shape[1]):\n",
        "          s +=  A[i,j]*A[i][j]\n",
        "      return s **(1/2) \n",
        "      \n",
        "\n",
        "\n",
        "\n",
        "      \n",
        "   # pass"
      ],
      "metadata": {
        "id": "Fcr6e7DFNRon"
      },
      "execution_count": null,
      "outputs": []
    },
    {
      "cell_type": "code",
      "source": [
        "## Test Matrix norm\n",
        "TOL1= 0.08\n",
        "np.random.seed(4)\n",
        "A= np.random.rand(10,10)\n",
        "assert (abs(matrix_norm(A, p=1)-np.linalg.norm(A, 1))<TOL1), \"Your matrix 1-norm does not work\"\n",
        "print(\"✅✅✅ Your matrix 1-norm works fine.\") \n",
        "print(\"The solution is: \", matrix_norm(A, p=1))\n",
        "    \n",
        "assert (abs(matrix_norm(A, p=\"inf\")-np.linalg.norm(A, np.inf))<TOL1), \"Your matrix inf-norm does not work\"\n",
        "print(\"✅✅✅ Your matrix inf-norm works fine.\")\n",
        "print(\"The solution is: \", matrix_norm(A, p='inf'))\n",
        "    \n",
        "assert (abs(matrix_norm(A, p=\"F\")-np.linalg.norm(A, 'fro'))<TOL1), \"Your matrix F-norm does not work\"\n",
        "print(\"✅✅✅ Your matrix F-norm works fine.\")\n",
        "print(\"The solution is: \", matrix_norm(A, p='F'))"
      ],
      "metadata": {
        "id": "F-4ciR3mTXpd"
      },
      "execution_count": null,
      "outputs": []
    },
    {
      "cell_type": "markdown",
      "source": [
        "___END___"
      ],
      "metadata": {
        "id": "MCnQwgWOWAJf"
      }
    },
    {
      "cell_type": "code",
      "source": [],
      "metadata": {
        "id": "pAlC_o4gWCPg"
      },
      "execution_count": null,
      "outputs": []
    }
  ]
}