{
  "nbformat": 4,
  "nbformat_minor": 0,
  "metadata": {
    "colab": {
      "private_outputs": true,
      "provenance": [],
      "include_colab_link": true
    },
    "kernelspec": {
      "name": "python3",
      "display_name": "Python 3"
    },
    "language_info": {
      "name": "python"
    }
  },
  "cells": [
    {
      "cell_type": "markdown",
      "metadata": {
        "id": "view-in-github",
        "colab_type": "text"
      },
      "source": [
        "<a href=\"https://colab.research.google.com/github/VerlonRoelMBINGUI/Numerical-linear-algebra-/blob/main/Verlon__Roel_Mbingui_LinearSystem.ipynb\" target=\"_parent\"><img src=\"https://colab.research.google.com/assets/colab-badge.svg\" alt=\"Open In Colab\"/></a>"
      ]
    },
    {
      "cell_type": "markdown",
      "source": [
        "---\n",
        "___\n",
        "<p align= 'center'> <strong> PRACTICAL ASSIGNMENT ON LINEAR ALGEBRA</strong></p>\n",
        "\n",
        "---\n",
        "___\n",
        "<b> Instructions </b> <br>\n",
        "    1. The work you hand in must be your own. You are permitted to collaborate with one another students only to the degree of\n",
        "giving ideas on how to solve a problem. Think through and write up your own solutions; copying from others is not\n",
        "permitted. In particular, the code you hand in must be your own; <br>\n",
        "    2. Do not import additional libraries, only numpy is enough for this assignment."
      ],
      "metadata": {
        "id": "CUwVRjPlWGVJ"
      }
    },
    {
      "cell_type": "code",
      "source": [
        "import numpy as np"
      ],
      "metadata": {
        "id": "kbk4wqQ-M2yg"
      },
      "execution_count": null,
      "outputs": []
    },
    {
      "cell_type": "markdown",
      "source": [
        "## Forward and Backward substitution and Gaussian Elimination"
      ],
      "metadata": {
        "id": "sDpC-myYerhD"
      }
    },
    {
      "cell_type": "code",
      "source": [
        "def backsubs(U, b):\n",
        "\n",
        "  \"\"\"\n",
        "  x = backsubs(U, b)\n",
        "  Apply back substitution for the square upper triangular system Ux=b. \n",
        "\n",
        "  Parameters\n",
        "  -------\n",
        "    U: nxn square upper triangular array\n",
        "    b: n array\n",
        "    \n",
        "\n",
        "  Returns\n",
        "  -------\n",
        "    x: nx1 array\n",
        "  \"\"\"\n",
        "  ##### WRITE YOUR CODE HERE #####\n",
        "  n = len(b)\n",
        "  x=[0]*n\n",
        "  if U[n-1][n-1] == 0:\n",
        "    raise ValueError\n",
        "  x[n-1] = b[n-1]/U[n-1, n-1]\n",
        "  for i in range(n-2, -1, -1):\n",
        "    sum = 0\n",
        "    for j in range (i+1, n):\n",
        "        sum += U[i, j]*x[j]\n",
        "        x[i] = (b[i]-sum)/U[i, i]\n",
        "  return x\n",
        "  pass\n",
        "\n",
        "\n",
        "def forwardsubs(L, b):\n",
        "\n",
        "  \"\"\"\n",
        "  \tx = forsubs(L, b)\n",
        "    Apply forward substitution for the square lower triangular system Lx=b. \n",
        "\n",
        "    Parameters\n",
        "    -------\n",
        "      L: nxn square lower triangular array\n",
        "      b: n array\n",
        "      \n",
        "    Returns\n",
        "    -------\n",
        "      x: n array\n",
        "\n",
        "  \"\"\"\n",
        "  ##### WRITE YOUR CODE HERE #####\n",
        "  n = L.shape[0]\n",
        "  x = np.zeros_like(b,dtype = np.double)\n",
        "  x[0]= b[0]/L[0,0]\n",
        "  for i in range(1,n):\n",
        "    x[i]=(b[i]-np.dot(L[i,:i],x[:i])/L[i,i])\n",
        "  return x\n",
        "\n",
        "\n",
        "\n",
        "def fowardElimination(A,b):\n",
        "  # Naive Gaussian Elimination (with no pivoting) also called Forward Elimination\n",
        "  \"\"\"\n",
        "  \tU,b_new = fowardElimination(A, b)\n",
        "    Apply fowardElimination for the square system Ax=b. \n",
        "\n",
        "    Parameters\n",
        "    -------\n",
        "      A: nxn square matrix \n",
        "      b: n array\n",
        "\n",
        "    Returns\n",
        "    -------\n",
        "      U: nxn upper triangular matrix\n",
        "      b_new: n array\n",
        "  \"\"\"\n",
        "  ##### WRITE YOUR CODE HERE #####\n",
        "  B =  np.column_stack((A, b))\n",
        "  n=len(B)\n",
        "  rows = B.shape[0]\n",
        "  cols = B.shape[1]\n",
        "  x = np.zeros(cols-1)\n",
        "  for i in range(cols - 1):\n",
        "    for j in range(i+1,rows):\n",
        "      B[j,:]= -(B[j,i]/B[i,i])*B[i,:]+B[j,:]\n",
        "      \n",
        "  \n",
        "  U = B[:,0:n]\n",
        "  b_new = B[0:,n]\n",
        "  return  (U, b_new)\n",
        "  \n",
        "\n",
        "def ge(A,b):\n",
        "  \n",
        "  \"\"\"\n",
        "  \tx = ge(A, b)\n",
        "\n",
        "    Parameters\n",
        "    -------\n",
        "      A: nxn square matrix \n",
        "      b: n array\n",
        "\n",
        "    Returns\n",
        "    -------\n",
        "      x: n-array\n",
        "\n",
        "  \"\"\"\n",
        "  ##### WRITE YOUR CODE HERE #####\n",
        "  # Call fowardElimination\n",
        "  U , b_new = fowardElimination(A,b)\n",
        "  # Call backsubs\n",
        "  x = backsubs(U, b_new)\n",
        "  return x\n",
        "A= np.array([[1,1,1, 4],[2,3,5, 2],[4,6,8, 3], [3,9,2, 1]],dtype= np.float64)\n",
        "b= np.array([2,3,1, 4],dtype= np.float64)\n",
        "ge(A,b) \n",
        "  #pass\n"
      ],
      "metadata": {
        "id": "BKfyOkjdeXnl"
      },
      "execution_count": null,
      "outputs": []
    },
    {
      "cell_type": "markdown",
      "source": [
        "## LU Decomposition/Factorization"
      ],
      "metadata": {
        "id": "xrbs9uRuel0v"
      }
    },
    {
      "cell_type": "code",
      "source": [
        "def ludecom(A):\n",
        "    \n",
        "  \"\"\"\n",
        "    L,U = ludecom(A)\n",
        "    Apply LU decomposition to mxm square matrix. \n",
        "\n",
        "    Parameters\n",
        "    -------\n",
        "    A: mxm square matrix \n",
        "\n",
        "    Returns\n",
        "    -------\n",
        "    L: mxm square matrix \n",
        "    U: mxm square matrix \n",
        "  \"\"\"\n",
        "\n",
        "  ##### WRITE YOUR CODE HERE #####\n",
        "  n = A.shape[0]\n",
        "  U = A.copy()\n",
        "  L = np.eye(n, dtype=np.double)\n",
        "  for i in range(n):\n",
        "    factor = U[i+1:, i] / U[i, i]\n",
        "    L[i+1:, i] = factor\n",
        "    U[i+1:] -= factor[:, np.newaxis] * U[i]\n",
        "\n",
        "  return L, U\n",
        "\n",
        "  pass\n",
        "\n",
        "\n",
        "def solve(A, b):\n",
        "    \n",
        "    \"\"\"\n",
        "     x = solve(A, b)\n",
        "    Apply LU decmposition, forward and backward substitution for the square system Ax=b. \n",
        "\n",
        "    Parameters\n",
        "    -------\n",
        "    A: mxm square matrix \n",
        "    b: m vector\n",
        "        \n",
        "    Returns\n",
        "    -------\n",
        "    x: n vector\n",
        "    \n",
        "    \"\"\"\n",
        "    ##### WRITE YOUR CODE HERE #####\n",
        "    L,U = ludecom(A)\n",
        "    y = forwardsubs(L, b)\n",
        "    return  backsubs(U, y)\n",
        "\n",
        "A= np.array([[1,1,1, 4],[2,3,5, 2],[4,6,8, 3], [3,9,2, 1]],dtype= np.float64)\n",
        "b= np.array([2,3,1, 4],dtype= np.float64)\n",
        "x= solve(A, b)\n",
        "print(x)\n",
        "print(A@x-b)\n"
      ],
      "metadata": {
        "id": "8BHIAJKEejoc"
      },
      "execution_count": null,
      "outputs": []
    },
    {
      "cell_type": "markdown",
      "source": [
        "___END___"
      ],
      "metadata": {
        "id": "MCnQwgWOWAJf"
      }
    },
    {
      "cell_type": "code",
      "source": [],
      "metadata": {
        "id": "pAlC_o4gWCPg"
      },
      "execution_count": null,
      "outputs": []
    }
  ]
}